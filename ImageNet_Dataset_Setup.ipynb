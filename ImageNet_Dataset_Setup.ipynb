{
 "cells": [
  {
   "cell_type": "markdown",
   "metadata": {},
   "source": [
    "# ImageNet Dataset Setup Notebook\n",
    "\n",
    "This notebook is dedicated to the initial setup and preparation of the ImageNet dataset for machine learning tasks. It encompasses the following key processes:\n",
    "\n",
    "1. **Downloading the Dataset**: Automates the download of the ImageNet dataset (both training and validation parts) from the official source.\n",
    "\n",
    "2. **Extracting the Dataset**: Methodically extracts the downloaded dataset, which is initially in compressed tar file format, into a structured directory format suitable for machine learning models. This includes creating separate directories for each class in the training set.\n",
    "\n",
    "3. **File Path Extraction**: Iterates through the extracted directories to compile a comprehensive list of file paths for all images. This list is crucial for efficient data loading during the model training process.\n",
    "\n",
    "4. **Saving File Paths**: Saves the generated list of image file paths to a file on Google Drive. This enables easy and quick access to the dataset in future sessions or in other notebooks, particularly in model training and validation stages.\n",
    "\n",
    "Overall, this notebook is intended to streamline the data handling aspect of working with the large-scale ImageNet dataset, ensuring that subsequent stages of the project, such as model training and evaluation, can proceed smoothly and efficiently.\n"
   ]
  },
  {
   "cell_type": "code",
   "execution_count": null,
   "metadata": {},
   "outputs": [],
   "source": [
    "from google.colab import drive\n",
    "# Will provide you with an authentication link\n",
    "drive.mount('/content/drive')"
   ]
  },
  {
   "cell_type": "code",
   "execution_count": null,
   "metadata": {},
   "outputs": [],
   "source": [
    "import os\n",
    "\n",
    "target_dir = '/content/drive/MyDrive/AnomalyDetection/Datasets/ImageNet/TrainValTar'\n",
    "os.makedirs(target_dir, exist_ok=True)"
   ]
  },
  {
   "cell_type": "code",
   "execution_count": null,
   "metadata": {},
   "outputs": [],
   "source": [
    "!wget -c https://image-net.org/data/ILSVRC/2012/ILSVRC2012_img_train.tar -P {target_dir}"
   ]
  },
  {
   "cell_type": "code",
   "execution_count": null,
   "metadata": {},
   "outputs": [],
   "source": [
    "!wget -c https://image-net.org/data/ILSVRC/2012/ILSVRC2012_img_val.tar -P {target_dir}"
   ]
  },
  {
   "cell_type": "code",
   "execution_count": null,
   "metadata": {},
   "outputs": [],
   "source": [
    "%cd scripts/\n",
    "!chmod +x extract_imagenet.sh\n",
    "!./extract_imagenet.sh"
   ]
  }
 ],
 "metadata": {
  "language_info": {
   "name": "python"
  }
 },
 "nbformat": 4,
 "nbformat_minor": 2
}
