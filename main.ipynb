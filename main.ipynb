{
 "cells": [
  {
   "attachments": {},
   "cell_type": "markdown",
   "metadata": {},
   "source": [
    "# Unsupervised Anomaly Detection on fastMRI"
   ]
  },
  {
   "attachments": {},
   "cell_type": "markdown",
   "metadata": {},
   "source": [
    "### *Run these cells only when in Google Colab*"
   ]
  },
  {
   "cell_type": "code",
   "execution_count": null,
   "metadata": {},
   "outputs": [],
   "source": [
    "# # Clone the repository\n",
    "# !git clone https://github.com/compai-lab/mad_seminar_s23.git\n",
    "# # Move all content to the current directory\n",
    "# !mv ./mad_seminar_s23/* ./\n",
    "# # Remove the empty directory\n",
    "# !rm -rf mad_seminar_s23/\n",
    "# # Download the data\n",
    "# !wget https://syncandshare.lrz.de/dl/fiNRBX6FN1Vh67NqugzqKo/data.zip -P ./data/\n",
    "# # Extract the data\n",
    "# !unzip -q ./data/data.zip -d ./data/"
   ]
  },
  {
   "cell_type": "code",
   "execution_count": null,
   "metadata": {},
   "outputs": [],
   "source": [
    "# # Install pytorch-lightning\n",
    "# !pip install -q pytorch-lightning"
   ]
  },
  {
   "attachments": {},
   "cell_type": "markdown",
   "metadata": {},
   "source": [
    "## Imports"
   ]
  },
  {
   "cell_type": "code",
   "execution_count": null,
   "metadata": {},
   "outputs": [],
   "source": [
    "import matplotlib.pyplot as plt\n",
    "import pytorch_lightning as pl\n",
    "import torch\n",
    "import yaml\n",
    "\n",
    "from trainer.trainer import AutoencoderModel\n",
    "from data_loader import TrainDataModule\n",
    "\n",
    "# autoreload imported modules\n",
    "%load_ext autoreload\n",
    "%autoreload 2"
   ]
  },
  {
   "attachments": {},
   "cell_type": "markdown",
   "metadata": {},
   "source": [
    "## Load the config"
   ]
  },
  {
   "cell_type": "code",
   "execution_count": null,
   "metadata": {},
   "outputs": [],
   "source": [
    "with open('./configs/autoencoder_config.yaml', 'r') as f:\n",
    "    config = yaml.safe_load(f)\n",
    "\n",
    "# Reproducibility\n",
    "pl.seed_everything(config['seed'])"
   ]
  },
  {
   "attachments": {},
   "cell_type": "markdown",
   "metadata": {},
   "source": [
    "## Load and visualize the data"
   ]
  },
  {
   "cell_type": "code",
   "execution_count": null,
   "metadata": {},
   "outputs": [],
   "source": [
    "train_data_module = TrainDataModule(\n",
    "    data_dir=config['train_data_dir'],\n",
    "    target_size=config['target_size'],\n",
    "    batch_size=config['batch_size'])\n",
    "\n",
    "# Plot some images\n",
    "batch = next(iter(train_data_module.train_dataloader()))\n",
    "\n",
    "fig, ax = plt.subplots(1, 5, figsize=(15, 5))\n",
    "for i in range(5):\n",
    "    ax[i].imshow(batch[i].squeeze(), cmap='gray')\n",
    "    ax[i].axis('off')\n",
    "plt.show()"
   ]
  },
  {
   "attachments": {},
   "cell_type": "markdown",
   "metadata": {},
   "source": [
    "## Prepare model"
   ]
  },
  {
   "cell_type": "code",
   "execution_count": null,
   "metadata": {},
   "outputs": [],
   "source": [
    "# Init model\n",
    "model = AutoencoderModel(config)\n",
    "\n",
    "max_epochs = config['num_epochs']\n",
    "trainer = pl.Trainer(max_epochs=max_epochs)"
   ]
  },
  {
   "attachments": {},
   "cell_type": "markdown",
   "metadata": {},
   "source": [
    "## Run training"
   ]
  },
  {
   "cell_type": "code",
   "execution_count": null,
   "metadata": {},
   "outputs": [],
   "source": [
    "# Train the model\n",
    "trainer.fit(model, datamodule=train_data_module)"
   ]
  },
  {
   "attachments": {},
   "cell_type": "markdown",
   "metadata": {},
   "source": [
    "## Evaluation"
   ]
  },
  {
   "cell_type": "code",
   "execution_count": null,
   "metadata": {},
   "outputs": [],
   "source": [
    "batch = next(iter(train_data_module.train_dataloader()))\n",
    "\n",
    "with torch.inference_mode():\n",
    "    results = model.detect_anomaly(batch)\n",
    "    reconstructions = results['reconstruction']\n",
    "\n",
    "# Plot images and reconstructions\n",
    "fig, ax = plt.subplots(2, 5, figsize=(15, 5))\n",
    "for i in range(5):\n",
    "    ax[0][i].imshow(batch[i].squeeze(), cmap='gray')\n",
    "    ax[0][i].axis('off')\n",
    "    ax[1][i].imshow(reconstructions[i].squeeze(), cmap='gray')\n",
    "    ax[1][i].axis('off')"
   ]
  },
  {
   "cell_type": "code",
   "execution_count": null,
   "metadata": {},
   "outputs": [],
   "source": [
    "from data_loader import get_all_test_dataloaders\n",
    "\n",
    "test_dataloaders = get_all_test_dataloaders(config['split_dir'], config['target_size'], config['batch_size'])"
   ]
  },
  {
   "cell_type": "code",
   "execution_count": null,
   "metadata": {},
   "outputs": [],
   "source": [
    "test_dataloaders"
   ]
  },
  {
   "cell_type": "code",
   "execution_count": null,
   "metadata": {},
   "outputs": [],
   "source": [
    "batch = next(iter(test_dataloaders['absent_septum']))"
   ]
  },
  {
   "cell_type": "code",
   "execution_count": null,
   "metadata": {},
   "outputs": [],
   "source": []
  }
 ],
 "metadata": {
  "kernelspec": {
   "display_name": "anomaly_detection",
   "language": "python",
   "name": "python3"
  },
  "language_info": {
   "codemirror_mode": {
    "name": "ipython",
    "version": 3
   },
   "file_extension": ".py",
   "mimetype": "text/x-python",
   "name": "python",
   "nbconvert_exporter": "python",
   "pygments_lexer": "ipython3",
   "version": "3.10.11"
  },
  "orig_nbformat": 4
 },
 "nbformat": 4,
 "nbformat_minor": 2
}
